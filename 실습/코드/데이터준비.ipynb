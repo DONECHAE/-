{
 "cells": [
  {
   "cell_type": "code",
   "execution_count": 1,
   "metadata": {},
   "outputs": [],
   "source": [
    "import pandas as pd"
   ]
  },
  {
   "cell_type": "code",
   "execution_count": 2,
   "metadata": {},
   "outputs": [],
   "source": [
    "import pandas as pd\n",
    "import os\n",
    "\n",
    "# 파일이 위치한 폴더 경로\n",
    "folder_path = \"C:\\\\Users\\\\DC\\\\OneDrive - 계명대학교\\\\DC\\\\2024\\\\2024_3_2\\\\경정캡스톤\\\\실습\\\\데이터셋\\\\open (1)\\\\train_input\"\n",
    "\n",
    "# 해당 폴더 내 모든 CSV 파일 목록 가져오기\n",
    "file_list = [file for file in os.listdir(folder_path) if file.endswith('.csv')]\n",
    "\n",
    "# 전체 파일 경로 생성 (폴더 경로 + 파일 이름)\n",
    "file_paths = [os.path.join(folder_path, file) for file in file_list]\n",
    "\n",
    "# 모든 파일 읽어서 데이터프레임으로 변환 후 연결\n",
    "df = pd.concat([pd.read_csv(file) for file in file_paths], ignore_index=True)\n",
    "\n",
    "# 합쳐진 데이터프레임 저장 (동일 폴더에 저장)\n",
    "df.to_csv(os.path.join(folder_path, 'merged_data.csv'), index=False)"
   ]
  },
  {
   "cell_type": "code",
   "execution_count": null,
   "metadata": {},
   "outputs": [],
   "source": [
    "import streamlit as st\n",
    "import pandas as pd\n",
    "import numpy as np\n",
    "import time\n",
    "\n",
    "# 데이터 불러오기\n",
    "data = pd.read_csv('/mnt/data/CASE_01.csv')\n",
    "\n",
    "# Streamlit 페이지 설정\n",
    "st.title(\"실시간 모니터링 대시보드\")\n",
    "st.header(\"내부 온도, 습도, CO2 및 공기 정화량\")\n",
    "\n",
    "# 공기 정화량 생성 함수\n",
    "def generate_purification_data(size):\n",
    "    return np.random.uniform(0, 50, size)\n",
    "\n",
    "# 데이터프레임에 공기 정화량 추가\n",
    "data['공기정화량'] = generate_purification_data(len(data))\n",
    "\n",
    "# 실시간 데이터 시뮬레이션\n",
    "placeholder = st.empty()\n",
    "\n",
    "for i in range(len(data)):\n",
    "    # 현재 행의 데이터 가져오기\n",
    "    current_data = data.iloc[i]\n",
    "    \n",
    "    # 실시간 데이터 표시\n",
    "    with placeholder.container():\n",
    "        st.metric(\"내부 온도 (℃)\", f\"{current_data['내부온도관측치']:.2f}\")\n",
    "        st.metric(\"내부 습도 (%)\", f\"{current_data['내부습도관측치']:.2f}\")\n",
    "        st.metric(\"CO2 농도 (ppm)\", f\"{current_data['co2관측치']:.2f}\")\n",
    "        st.metric(\"공기 정화량 (g)\", f\"{current_data['공기정화량']:.2f}\")\n",
    "    \n",
    "    # 1초 지연\n",
    "    time.sleep(1)\n"
   ]
  }
 ],
 "metadata": {
  "kernelspec": {
   "display_name": "Python 3",
   "language": "python",
   "name": "python3"
  },
  "language_info": {
   "codemirror_mode": {
    "name": "ipython",
    "version": 3
   },
   "file_extension": ".py",
   "mimetype": "text/x-python",
   "name": "python",
   "nbconvert_exporter": "python",
   "pygments_lexer": "ipython3",
   "version": "3.11.8"
  }
 },
 "nbformat": 4,
 "nbformat_minor": 2
}
